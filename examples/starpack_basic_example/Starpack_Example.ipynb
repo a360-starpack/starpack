{
 "cells": [
  {
   "cell_type": "markdown",
   "id": "8aad5e81-ec9e-4c93-861f-72accb6ae7b9",
   "metadata": {},
   "source": [
    "# Sample ML Model Training and Export\n",
    "\n",
    "This notebook serves as an example of training a simple ML model, evaluating it, then finally exporting it to a binary file format so that we can serve our model using [Starpack](https://github.com/a360-starpack/starpack).\n",
    "\n",
    "The sample data is publicly available with an account on [Kaggle](https://www.kaggle.com/datasets/johnsmith88/heart-disease-dataset).\n",
    "\n",
    "----"
   ]
  },
  {
   "cell_type": "markdown",
   "id": "9ccb53eb-67d1-4ae1-9cd4-b70b44a24af9",
   "metadata": {},
   "source": [
    "First, we will import the necessary libraries:\n",
    "\n",
    "1. `pandas` - Create and manipulate tabular data, such as the CSV file we will be using.\n",
    "2. `sklearn` - A Python library with a large variety of machine learning algorithms and helper functions for manipulating data and training models. In this example, we will specifically use the `RandomForestClassifier` class to use a Random Forest of Decision Trees to classify our patients as having heart disease or not. Additionally, we will use the `train_test_split` helper function to split our initial dataset into a training set and a testing set for verification. Finally, we import the `accuracy_score` helper method to check the accuracy of our classification model.\n",
    "3. `pathlib` - Builtin library for manipulating the host operating system's filesystem. We will use this just to ensure we are pointing to the right files when we load and export different files.\n",
    "4. `joblib` - Another builtin library used for saving Python objects in memory (such as a trained model object in this example) and saving them to a binary file format for later use.\n",
    "\n",
    "Next, we will use `pathlib` to set our base directory as a variable to use when reading and writing files. Additionally, we will set a random seed so that any randomized actions in this notebook are deterministic and will remain the same across machines and different runs."
   ]
  },
  {
   "cell_type": "code",
   "execution_count": null,
   "outputs": [],
   "source": [
    "!pip install -r requirements.txt"
   ],
   "metadata": {
    "collapsed": false,
    "pycharm": {
     "is_executing": true
    }
   }
  },
  {
   "cell_type": "code",
   "execution_count": null,
   "id": "5be784d6-ad63-4dcf-8abe-fb0420bc5c53",
   "metadata": {
    "pycharm": {
     "is_executing": true
    }
   },
   "outputs": [],
   "source": [
    "import pandas as pd\n",
    "from sklearn.ensemble import RandomForestClassifier\n",
    "from sklearn.model_selection import train_test_split\n",
    "from sklearn.metrics import accuracy_score\n",
    "from pathlib import Path\n",
    "import joblib\n",
    "\n",
    "BASE_DIR = Path(\".\").resolve()\n",
    "RANDOM_SEED = 42\n",
    "print(BASE_DIR)"
   ]
  },
  {
   "cell_type": "markdown",
   "source": [
    "## Load Data"
   ],
   "metadata": {
    "collapsed": false
   }
  },
  {
   "cell_type": "code",
   "execution_count": 3,
   "id": "71e97384-f8e9-47ef-aae2-efa60b211650",
   "metadata": {},
   "outputs": [
    {
     "data": {
      "text/plain": "      age  sex  cp  trestbps  chol  fbs  restecg  thalach  exang  oldpeak  \\\n0      52    1   0       125   212    0        1      168      0      1.0   \n1      53    1   0       140   203    1        0      155      1      3.1   \n2      70    1   0       145   174    0        1      125      1      2.6   \n3      61    1   0       148   203    0        1      161      0      0.0   \n4      62    0   0       138   294    1        1      106      0      1.9   \n...   ...  ...  ..       ...   ...  ...      ...      ...    ...      ...   \n1020   59    1   1       140   221    0        1      164      1      0.0   \n1021   60    1   0       125   258    0        0      141      1      2.8   \n1022   47    1   0       110   275    0        0      118      1      1.0   \n1023   50    0   0       110   254    0        0      159      0      0.0   \n1024   54    1   0       120   188    0        1      113      0      1.4   \n\n      slope  ca  thal  target  \n0         2   2     3       0  \n1         0   0     3       0  \n2         0   0     3       0  \n3         2   1     3       0  \n4         1   3     2       0  \n...     ...  ..   ...     ...  \n1020      2   0     2       1  \n1021      1   1     3       0  \n1022      1   1     2       0  \n1023      2   0     2       1  \n1024      1   1     3       0  \n\n[1025 rows x 14 columns]",
      "text/html": "<div>\n<style scoped>\n    .dataframe tbody tr th:only-of-type {\n        vertical-align: middle;\n    }\n\n    .dataframe tbody tr th {\n        vertical-align: top;\n    }\n\n    .dataframe thead th {\n        text-align: right;\n    }\n</style>\n<table border=\"1\" class=\"dataframe\">\n  <thead>\n    <tr style=\"text-align: right;\">\n      <th></th>\n      <th>age</th>\n      <th>sex</th>\n      <th>cp</th>\n      <th>trestbps</th>\n      <th>chol</th>\n      <th>fbs</th>\n      <th>restecg</th>\n      <th>thalach</th>\n      <th>exang</th>\n      <th>oldpeak</th>\n      <th>slope</th>\n      <th>ca</th>\n      <th>thal</th>\n      <th>target</th>\n    </tr>\n  </thead>\n  <tbody>\n    <tr>\n      <th>0</th>\n      <td>52</td>\n      <td>1</td>\n      <td>0</td>\n      <td>125</td>\n      <td>212</td>\n      <td>0</td>\n      <td>1</td>\n      <td>168</td>\n      <td>0</td>\n      <td>1.0</td>\n      <td>2</td>\n      <td>2</td>\n      <td>3</td>\n      <td>0</td>\n    </tr>\n    <tr>\n      <th>1</th>\n      <td>53</td>\n      <td>1</td>\n      <td>0</td>\n      <td>140</td>\n      <td>203</td>\n      <td>1</td>\n      <td>0</td>\n      <td>155</td>\n      <td>1</td>\n      <td>3.1</td>\n      <td>0</td>\n      <td>0</td>\n      <td>3</td>\n      <td>0</td>\n    </tr>\n    <tr>\n      <th>2</th>\n      <td>70</td>\n      <td>1</td>\n      <td>0</td>\n      <td>145</td>\n      <td>174</td>\n      <td>0</td>\n      <td>1</td>\n      <td>125</td>\n      <td>1</td>\n      <td>2.6</td>\n      <td>0</td>\n      <td>0</td>\n      <td>3</td>\n      <td>0</td>\n    </tr>\n    <tr>\n      <th>3</th>\n      <td>61</td>\n      <td>1</td>\n      <td>0</td>\n      <td>148</td>\n      <td>203</td>\n      <td>0</td>\n      <td>1</td>\n      <td>161</td>\n      <td>0</td>\n      <td>0.0</td>\n      <td>2</td>\n      <td>1</td>\n      <td>3</td>\n      <td>0</td>\n    </tr>\n    <tr>\n      <th>4</th>\n      <td>62</td>\n      <td>0</td>\n      <td>0</td>\n      <td>138</td>\n      <td>294</td>\n      <td>1</td>\n      <td>1</td>\n      <td>106</td>\n      <td>0</td>\n      <td>1.9</td>\n      <td>1</td>\n      <td>3</td>\n      <td>2</td>\n      <td>0</td>\n    </tr>\n    <tr>\n      <th>...</th>\n      <td>...</td>\n      <td>...</td>\n      <td>...</td>\n      <td>...</td>\n      <td>...</td>\n      <td>...</td>\n      <td>...</td>\n      <td>...</td>\n      <td>...</td>\n      <td>...</td>\n      <td>...</td>\n      <td>...</td>\n      <td>...</td>\n      <td>...</td>\n    </tr>\n    <tr>\n      <th>1020</th>\n      <td>59</td>\n      <td>1</td>\n      <td>1</td>\n      <td>140</td>\n      <td>221</td>\n      <td>0</td>\n      <td>1</td>\n      <td>164</td>\n      <td>1</td>\n      <td>0.0</td>\n      <td>2</td>\n      <td>0</td>\n      <td>2</td>\n      <td>1</td>\n    </tr>\n    <tr>\n      <th>1021</th>\n      <td>60</td>\n      <td>1</td>\n      <td>0</td>\n      <td>125</td>\n      <td>258</td>\n      <td>0</td>\n      <td>0</td>\n      <td>141</td>\n      <td>1</td>\n      <td>2.8</td>\n      <td>1</td>\n      <td>1</td>\n      <td>3</td>\n      <td>0</td>\n    </tr>\n    <tr>\n      <th>1022</th>\n      <td>47</td>\n      <td>1</td>\n      <td>0</td>\n      <td>110</td>\n      <td>275</td>\n      <td>0</td>\n      <td>0</td>\n      <td>118</td>\n      <td>1</td>\n      <td>1.0</td>\n      <td>1</td>\n      <td>1</td>\n      <td>2</td>\n      <td>0</td>\n    </tr>\n    <tr>\n      <th>1023</th>\n      <td>50</td>\n      <td>0</td>\n      <td>0</td>\n      <td>110</td>\n      <td>254</td>\n      <td>0</td>\n      <td>0</td>\n      <td>159</td>\n      <td>0</td>\n      <td>0.0</td>\n      <td>2</td>\n      <td>0</td>\n      <td>2</td>\n      <td>1</td>\n    </tr>\n    <tr>\n      <th>1024</th>\n      <td>54</td>\n      <td>1</td>\n      <td>0</td>\n      <td>120</td>\n      <td>188</td>\n      <td>0</td>\n      <td>1</td>\n      <td>113</td>\n      <td>0</td>\n      <td>1.4</td>\n      <td>1</td>\n      <td>1</td>\n      <td>3</td>\n      <td>0</td>\n    </tr>\n  </tbody>\n</table>\n<p>1025 rows × 14 columns</p>\n</div>"
     },
     "execution_count": 3,
     "metadata": {},
     "output_type": "execute_result"
    }
   ],
   "source": [
    "heart_df = pd.read_csv(BASE_DIR / \"heart.csv\")\n",
    "heart_df"
   ]
  },
  {
   "cell_type": "markdown",
   "source": [
    "## Analysis\n",
    "\n",
    "Our target variable (will also be referred to as `y`) will be the `target` column. In order to reduce the complexity of this example, we will do no data preprocessing or feature selection beyond what was already provided to us. Our explanatory variables, `X` will be all columns except for `target`. For real-world use cases, tools such as exploratory data analysis and feature engineering are highly recommended."
   ],
   "metadata": {
    "collapsed": false
   }
  },
  {
   "cell_type": "code",
   "execution_count": 4,
   "outputs": [],
   "source": [
    "# Split data along its columns into explanatory and target variables\n",
    "X = heart_df.drop('target', axis=1)\n",
    "y = heart_df['target']\n",
    "\n",
    "# Split data along its rows into training and test sets\n",
    "train_X, test_X, train_y, test_y = train_test_split(X, y, random_state=RANDOM_SEED, train_size=0.6)"
   ],
   "metadata": {
    "collapsed": false
   }
  },
  {
   "cell_type": "markdown",
   "source": [
    "Next, we will instantiate our model object, which as not yet been trained, and train it on our `train_X` and `train_y` data."
   ],
   "metadata": {
    "collapsed": false
   }
  },
  {
   "cell_type": "code",
   "execution_count": 5,
   "outputs": [
    {
     "data": {
      "text/plain": "RandomForestClassifier(random_state=42)",
      "text/html": "<style>#sk-container-id-1 {color: black;background-color: white;}#sk-container-id-1 pre{padding: 0;}#sk-container-id-1 div.sk-toggleable {background-color: white;}#sk-container-id-1 label.sk-toggleable__label {cursor: pointer;display: block;width: 100%;margin-bottom: 0;padding: 0.3em;box-sizing: border-box;text-align: center;}#sk-container-id-1 label.sk-toggleable__label-arrow:before {content: \"▸\";float: left;margin-right: 0.25em;color: #696969;}#sk-container-id-1 label.sk-toggleable__label-arrow:hover:before {color: black;}#sk-container-id-1 div.sk-estimator:hover label.sk-toggleable__label-arrow:before {color: black;}#sk-container-id-1 div.sk-toggleable__content {max-height: 0;max-width: 0;overflow: hidden;text-align: left;background-color: #f0f8ff;}#sk-container-id-1 div.sk-toggleable__content pre {margin: 0.2em;color: black;border-radius: 0.25em;background-color: #f0f8ff;}#sk-container-id-1 input.sk-toggleable__control:checked~div.sk-toggleable__content {max-height: 200px;max-width: 100%;overflow: auto;}#sk-container-id-1 input.sk-toggleable__control:checked~label.sk-toggleable__label-arrow:before {content: \"▾\";}#sk-container-id-1 div.sk-estimator input.sk-toggleable__control:checked~label.sk-toggleable__label {background-color: #d4ebff;}#sk-container-id-1 div.sk-label input.sk-toggleable__control:checked~label.sk-toggleable__label {background-color: #d4ebff;}#sk-container-id-1 input.sk-hidden--visually {border: 0;clip: rect(1px 1px 1px 1px);clip: rect(1px, 1px, 1px, 1px);height: 1px;margin: -1px;overflow: hidden;padding: 0;position: absolute;width: 1px;}#sk-container-id-1 div.sk-estimator {font-family: monospace;background-color: #f0f8ff;border: 1px dotted black;border-radius: 0.25em;box-sizing: border-box;margin-bottom: 0.5em;}#sk-container-id-1 div.sk-estimator:hover {background-color: #d4ebff;}#sk-container-id-1 div.sk-parallel-item::after {content: \"\";width: 100%;border-bottom: 1px solid gray;flex-grow: 1;}#sk-container-id-1 div.sk-label:hover label.sk-toggleable__label {background-color: #d4ebff;}#sk-container-id-1 div.sk-serial::before {content: \"\";position: absolute;border-left: 1px solid gray;box-sizing: border-box;top: 0;bottom: 0;left: 50%;z-index: 0;}#sk-container-id-1 div.sk-serial {display: flex;flex-direction: column;align-items: center;background-color: white;padding-right: 0.2em;padding-left: 0.2em;position: relative;}#sk-container-id-1 div.sk-item {position: relative;z-index: 1;}#sk-container-id-1 div.sk-parallel {display: flex;align-items: stretch;justify-content: center;background-color: white;position: relative;}#sk-container-id-1 div.sk-item::before, #sk-container-id-1 div.sk-parallel-item::before {content: \"\";position: absolute;border-left: 1px solid gray;box-sizing: border-box;top: 0;bottom: 0;left: 50%;z-index: -1;}#sk-container-id-1 div.sk-parallel-item {display: flex;flex-direction: column;z-index: 1;position: relative;background-color: white;}#sk-container-id-1 div.sk-parallel-item:first-child::after {align-self: flex-end;width: 50%;}#sk-container-id-1 div.sk-parallel-item:last-child::after {align-self: flex-start;width: 50%;}#sk-container-id-1 div.sk-parallel-item:only-child::after {width: 0;}#sk-container-id-1 div.sk-dashed-wrapped {border: 1px dashed gray;margin: 0 0.4em 0.5em 0.4em;box-sizing: border-box;padding-bottom: 0.4em;background-color: white;}#sk-container-id-1 div.sk-label label {font-family: monospace;font-weight: bold;display: inline-block;line-height: 1.2em;}#sk-container-id-1 div.sk-label-container {text-align: center;}#sk-container-id-1 div.sk-container {/* jupyter's `normalize.less` sets `[hidden] { display: none; }` but bootstrap.min.css set `[hidden] { display: none !important; }` so we also need the `!important` here to be able to override the default hidden behavior on the sphinx rendered scikit-learn.org. See: https://github.com/scikit-learn/scikit-learn/issues/21755 */display: inline-block !important;position: relative;}#sk-container-id-1 div.sk-text-repr-fallback {display: none;}</style><div id=\"sk-container-id-1\" class=\"sk-top-container\"><div class=\"sk-text-repr-fallback\"><pre>RandomForestClassifier(random_state=42)</pre><b>In a Jupyter environment, please rerun this cell to show the HTML representation or trust the notebook. <br />On GitHub, the HTML representation is unable to render, please try loading this page with nbviewer.org.</b></div><div class=\"sk-container\" hidden><div class=\"sk-item\"><div class=\"sk-estimator sk-toggleable\"><input class=\"sk-toggleable__control sk-hidden--visually\" id=\"sk-estimator-id-1\" type=\"checkbox\" checked><label for=\"sk-estimator-id-1\" class=\"sk-toggleable__label sk-toggleable__label-arrow\">RandomForestClassifier</label><div class=\"sk-toggleable__content\"><pre>RandomForestClassifier(random_state=42)</pre></div></div></div></div></div>"
     },
     "execution_count": 5,
     "metadata": {},
     "output_type": "execute_result"
    }
   ],
   "source": [
    "model = RandomForestClassifier(random_state=RANDOM_SEED)\n",
    "\n",
    "model.fit(train_X, train_y)"
   ],
   "metadata": {
    "collapsed": false
   }
  },
  {
   "cell_type": "markdown",
   "source": [
    "## Evaluation\n",
    "\n",
    "Next, we'll look at how our model does predictions on our test set that was withheld from training and examine the model's accuracy."
   ],
   "metadata": {
    "collapsed": false
   }
  },
  {
   "cell_type": "code",
   "execution_count": 6,
   "outputs": [
    {
     "name": "stdout",
     "output_type": "stream",
     "text": [
      "The accuracy of the model is 98.53658536585365%.\n"
     ]
    }
   ],
   "source": [
    "predictions = model.predict(test_X)\n",
    "accuracy = accuracy_score(test_y, predictions)\n",
    "\n",
    "print(f\"The accuracy of the model is {accuracy * 100}%.\")"
   ],
   "metadata": {
    "collapsed": false
   }
  },
  {
   "cell_type": "markdown",
   "source": [
    "## Export\n",
    "\n",
    "The model performed well, so let's go ahead and export our model into a format usable by Starpack."
   ],
   "metadata": {
    "collapsed": false
   }
  },
  {
   "cell_type": "code",
   "execution_count": null,
   "outputs": [],
   "source": [
    "MODEL_FILENAME = BASE_DIR / 'pred_heart_disease.joblib'\n",
    "\n",
    "joblib.dump(model, MODEL_FILENAME)"
   ],
   "metadata": {
    "collapsed": false,
    "pycharm": {
     "is_executing": true
    }
   }
  },
  {
   "cell_type": "markdown",
   "source": [
    "Finally, we can confirm that if we load back in the model, it has identical performance to the previous model."
   ],
   "metadata": {
    "collapsed": false
   }
  },
  {
   "cell_type": "code",
   "execution_count": 8,
   "outputs": [],
   "source": [
    "imported_model = joblib.load(MODEL_FILENAME)"
   ],
   "metadata": {
    "collapsed": false
   }
  },
  {
   "cell_type": "code",
   "execution_count": 9,
   "outputs": [
    {
     "name": "stdout",
     "output_type": "stream",
     "text": [
      "The accuracy of the imported model is 98.53658536585365%.\n"
     ]
    }
   ],
   "source": [
    "predictions_new = imported_model.predict(test_X)\n",
    "accuracy_new = accuracy_score(test_y, predictions_new)\n",
    "\n",
    "print(f\"The accuracy of the imported model is {accuracy_new * 100}%.\")"
   ],
   "metadata": {
    "collapsed": false
   }
  },
  {
   "cell_type": "markdown",
   "source": [
    "We can see that the model we loaded back in from the file performs exactly as the saved model does! Refer back to the example's `README.md` for more information on how to package and deploy this model using Starpack."
   ],
   "metadata": {
    "collapsed": false
   }
  },
  {
   "cell_type": "code",
   "execution_count": 10,
   "outputs": [],
   "source": [
    "test_X.to_csv(BASE_DIR / \"heart_disease_score.csv\", index=False)"
   ],
   "metadata": {
    "collapsed": false
   }
  }
 ],
 "metadata": {
  "kernelspec": {
   "display_name": "Python 3",
   "language": "python",
   "name": "python3"
  },
  "language_info": {
   "codemirror_mode": {
    "name": "ipython",
    "version": 3
   },
   "file_extension": ".py",
   "mimetype": "text/x-python",
   "name": "python",
   "nbconvert_exporter": "python",
   "pygments_lexer": "ipython3",
   "version": "3.8.11"
  }
 },
 "nbformat": 4,
 "nbformat_minor": 5
}
